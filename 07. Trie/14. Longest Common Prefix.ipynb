{
 "cells": [
  {
   "cell_type": "markdown",
   "metadata": {},
   "source": [
    "# 14. Longest Common Prefix\n",
    "<span style=\"color: black; background-color:white; padding: 2px 5px; border-radius: 5px;\">2025/1/25</span> \n",
    "\n",
    "<span style=\"color: green; background-color: #e0f7fa; padding: 2px 5px; border-radius: 5px;\">Easy</span> \n",
    "<span style=\"color: red; background-color:rgb(250, 224, 243); padding: 2px 5px; border-radius: 5px;\">Yelp</span> \n",
    "<span style=\"color: blue; background-color:rgb(224, 228, 250); padding: 2px 5px; border-radius: 5px;\">String Manipulation</span> \n",
    "<span style=\"color: blue; background-color:rgb(224, 228, 250); padding: 2px 5px; border-radius: 5px;\">Tries</span> \n",
    "\n"
   ]
  },
  {
   "cell_type": "markdown",
   "metadata": {},
   "source": [
    "Write a function to find the longest common prefix string amongst an array of strings.\n",
    "\n",
    "If there is no common prefix, return an empty string \"\".\n",
    "\n",
    "\n",
    "\n",
    "### Example 1:\n",
    "```python\n",
    "Input: strs = [\"flower\",\"flow\",\"flight\"]\n",
    "Output: \"fl\"\n",
    "```\n",
    "\n",
    "### Example 2:\n",
    "```python\n",
    "Input: strs = [\"dog\",\"racecar\",\"car\"]\n",
    "Output: \"\"\n",
    "Explanation: There is no common prefix among the input strings.\n",
    "```\n",
    "\n",
    "### Constraints:\n",
    "```python\n",
    "1 <= strs.length <= 200\n",
    "0 <= strs[i].length <= 200\n",
    "strs[i] consists of only lowercase English letters if it is non-empty.\n",
    "```"
   ]
  },
  {
   "cell_type": "markdown",
   "metadata": {},
   "source": [
    "### Hints:\n",
    "\n",
    "1. Check first char of every string\n"
   ]
  },
  {
   "cell_type": "markdown",
   "metadata": {},
   "source": [
    "### Solution\n",
    "\n",
    "O(n*m) /O(1)"
   ]
  },
  {
   "cell_type": "code",
   "execution_count": null,
   "metadata": {},
   "outputs": [],
   "source": [
    "from typing import List\n",
    "\n",
    "class Solution:\n",
    "    def longestCommonPrefix(self, strs: List[str]) -> str:\n",
    "        output = \"\"\n",
    "        for i in range(len(strs[0])):\n",
    "            for s in strs:\n",
    "                if len(s) == i or strs[0][i] != s[i]:\n",
    "                    return output\n",
    "            output += strs[0][i]\n",
    "        return output\n",
    "        "
   ]
  },
  {
   "cell_type": "markdown",
   "metadata": {},
   "source": []
  }
 ],
 "metadata": {
  "kernelspec": {
   "display_name": "Python 3",
   "language": "python",
   "name": "python3"
  },
  "language_info": {
   "name": "python",
   "version": "3.12.3"
  }
 },
 "nbformat": 4,
 "nbformat_minor": 2
}
