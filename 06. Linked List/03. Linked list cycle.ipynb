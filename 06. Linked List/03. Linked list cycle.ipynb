{
 "cells": [
  {
   "cell_type": "markdown",
   "metadata": {},
   "source": [
    "## Solution 1 : Floyds tortoise and hare Alogrithm\n",
    "\n",
    "Time Complexity: O(n)\n",
    "\n",
    "Space Complexity: O(1)"
   ]
  },
  {
   "cell_type": "code",
   "execution_count": 17,
   "metadata": {},
   "outputs": [
    {
     "name": "stdout",
     "output_type": "stream",
     "text": [
      "True\n",
      "False\n",
      "False\n"
     ]
    }
   ],
   "source": [
    "\n",
    "\n",
    "class Node:\n",
    "    def __init__(self,value=None):\n",
    "        self.value=value\n",
    "        self.next = None\n",
    "\n",
    "def is_cycle(head:Node):\n",
    "    slow,fast = head,head\n",
    "\n",
    "    while fast and fast.next:\n",
    "        slow = slow.next\n",
    "        fast = fast.next.next\n",
    "        if fast == slow:\n",
    "            return True\n",
    "    return False\n",
    "\n",
    "\n",
    "n1 = Node(3)\n",
    "n2 = Node(2)\n",
    "n3 = Node(0)\n",
    "n4 = Node(4)\n",
    "\n",
    "#Example 1\n",
    "n1.next = n2\n",
    "n2.next = n3\n",
    "n3.next = n4\n",
    "n4.next = n2\n",
    "\n",
    "#Example 2\n",
    "m1 = Node(1)\n",
    "m2 = Node(2)\n",
    "\n",
    "m1.next = m2\n",
    "m2.next = None\n",
    "\n",
    "# Example 2\n",
    "p1 = Node(1)\n",
    "p1.next = None\n",
    "\n",
    "q1 = Node()\n",
    "\n",
    "\n",
    "\n",
    "print(is_cycle(n1))\n",
    "print(is_cycle(m1))\n",
    "print(is_cycle(p1))\n",
    "\n"
   ]
  },
  {
   "cell_type": "markdown",
   "metadata": {},
   "source": [
    "### Solution 2: Hashset\n",
    "\n",
    "Time Complexity: O(n)\n",
    "\n",
    "Space Complexity: O(n)"
   ]
  },
  {
   "cell_type": "code",
   "execution_count": 21,
   "metadata": {},
   "outputs": [
    {
     "name": "stdout",
     "output_type": "stream",
     "text": [
      "True\n",
      "False\n",
      "False\n"
     ]
    }
   ],
   "source": [
    "def is_cycle(head:Node):\n",
    "    visited_set = set()\n",
    "    while head:\n",
    "        if head in visited_set:\n",
    "            return True\n",
    "        visited_set.add(head)\n",
    "        head = head.next\n",
    "    return False\n",
    "\n",
    "print(is_cycle(n1))\n",
    "print(is_cycle(m1))\n",
    "print(is_cycle(p1))"
   ]
  }
 ],
 "metadata": {
  "kernelspec": {
   "display_name": "Python 3",
   "language": "python",
   "name": "python3"
  },
  "language_info": {
   "codemirror_mode": {
    "name": "ipython",
    "version": 3
   },
   "file_extension": ".py",
   "mimetype": "text/x-python",
   "name": "python",
   "nbconvert_exporter": "python",
   "pygments_lexer": "ipython3",
   "version": "3.12.3"
  }
 },
 "nbformat": 4,
 "nbformat_minor": 2
}
