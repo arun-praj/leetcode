{
 "cells": [
  {
   "cell_type": "code",
   "execution_count": 10,
   "metadata": {},
   "outputs": [],
   "source": [
    "class Node:\n",
    "    def __init__(self,value=None):\n",
    "        self.value=value\n",
    "        self.next = None\n",
    "\n",
    "\n",
    "n1 = Node(1)\n",
    "n2 = Node(2)\n",
    "n3 = Node(3)\n",
    "n4 = Node(4)\n",
    "n5 = Node(5)\n",
    "\n",
    "n1.next = n2\n",
    "n2.next = n3\n",
    "n3.next = n4\n",
    "n4.next = n5\n",
    "n5.next = None\n",
    "\n",
    "# def print_linked_list(head:Node):\n",
    "#     print(head)\n",
    "#     while head:\n",
    "#         print(head.value,sep='->',end='->')\n",
    "#         head = head.next\n",
    "#     print(None)\n",
    "\n",
    "# head = n1\n",
    "# print_linked_list(head)\n",
    "\n",
    "\n"
   ]
  },
  {
   "cell_type": "code",
   "execution_count": 11,
   "metadata": {},
   "outputs": [],
   "source": [
    "def print_linked_list(head:Node):\n",
    "    while head:\n",
    "        print(head.value,sep='->',end='->')\n",
    "        head = head.next\n",
    "    print(None)\n"
   ]
  },
  {
   "cell_type": "code",
   "execution_count": 12,
   "metadata": {},
   "outputs": [
    {
     "name": "stdout",
     "output_type": "stream",
     "text": [
      "5\n",
      "5->4->3->2->1->None\n"
     ]
    }
   ],
   "source": [
    "def reverse_linked_list(head):\n",
    "    prev,curr = None,head\n",
    "    while curr:\n",
    "        nxt = curr.next\n",
    "        curr.next = prev\n",
    "        prev = curr\n",
    "        curr = nxt\n",
    "    return prev\n",
    "# n1.next.next.value\n",
    "prev = reverse_linked_list(n1)\n",
    "print(prev.value)\n",
    "print_linked_list(prev)"
   ]
  }
 ],
 "metadata": {
  "kernelspec": {
   "display_name": "Python 3",
   "language": "python",
   "name": "python3"
  },
  "language_info": {
   "codemirror_mode": {
    "name": "ipython",
    "version": 3
   },
   "file_extension": ".py",
   "mimetype": "text/x-python",
   "name": "python",
   "nbconvert_exporter": "python",
   "pygments_lexer": "ipython3",
   "version": "3.12.3"
  }
 },
 "nbformat": 4,
 "nbformat_minor": 2
}
