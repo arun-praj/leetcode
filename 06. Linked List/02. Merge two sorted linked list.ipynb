{
 "cells": [
  {
   "cell_type": "markdown",
   "metadata": {},
   "source": [
    "# 21. Merge Two Sorted Lists\n",
    "### Easy\n",
    "\n",
    "You are given the heads of two sorted linked lists list1 and list2.\n",
    "\n",
    "Merge the two lists into one sorted list. The list should be made by splicing together the nodes of the first two lists.\n",
    "\n",
    "Return the head of the merged linked list.\n",
    "\n",
    "Example 1:\n",
    "```\n",
    "\n",
    "Input: list1 = [1,2,4], list2 = [1,3,4]\n",
    "Output: [1,1,2,3,4,4]\n",
    "```\n",
    "Example 2:\n",
    "```\n",
    "Input: list1 = [], list2 = []\n",
    "Output: []\n",
    "```\n",
    "Example 3:\n",
    "```\n",
    "Input: list1 = [], list2 = [0]\n",
    "Output: [0]\n",
    "```"
   ]
  },
  {
   "cell_type": "markdown",
   "metadata": {},
   "source": [
    "### Solution 1: Two pointers"
   ]
  },
  {
   "cell_type": "code",
   "execution_count": 2,
   "metadata": {},
   "outputs": [
    {
     "name": "stdout",
     "output_type": "stream",
     "text": [
      "Sorted List 1: \t1->2->4->None\n",
      "Sorted List 2: \t1->3->4->None\n",
      "Merged :\t1->1->2->3->4->4->None\n"
     ]
    }
   ],
   "source": [
    "class Node:\n",
    "    def __init__(self,value=0,next=None):\n",
    "        self.value = value\n",
    "        self.next = next\n",
    "\n",
    "class LinkedList:\n",
    "    def merge_sorted_list(self,l1:Node,l2:Node)->Node:\n",
    "        head = Node()\n",
    "        dummyHead = head\n",
    "        while l1 and l2:\n",
    "            if l1.value < l2.value:\n",
    "                dummyHead.next = l1\n",
    "                l1 = l1.next\n",
    "            else:\n",
    "                dummyHead.next = l2\n",
    "                l2 = l2.next\n",
    "            dummyHead = dummyHead.next\n",
    "\n",
    "        if l1:\n",
    "            dummyHead.next = l1\n",
    "        elif l2:\n",
    "            dummyHead.next = l2\n",
    "        return head.next\n",
    "    \n",
    "    def print_nodes(self,head:Node)->None:\n",
    "        while head:\n",
    "            print(head.value,end='->')\n",
    "            head = head.next\n",
    "        print(None)\n",
    "\n",
    "l1 = Node(1)\n",
    "l2 = Node(2)\n",
    "l3 = Node(4)\n",
    "l1.next = l2\n",
    "l1.next.next = l3\n",
    "\n",
    "\n",
    "n1 = Node(1)\n",
    "n2 = Node(3)\n",
    "n3 = Node(4)\n",
    "n1.next = n2\n",
    "n1.next.next = n3\n",
    "\n",
    "linkedList = LinkedList()\n",
    "\n",
    "print('Sorted List 1: ',end='\\t')\n",
    "linkedList.print_nodes(l1)\n",
    "print('Sorted List 2: ',end='\\t')\n",
    "linkedList.print_nodes(n1)\n",
    "print('Merged :',end='\\t')\n",
    "\n",
    "linkedList.print_nodes(linkedList.merge_sorted_list(l1,n1))\n",
    "\n"
   ]
  },
  {
   "cell_type": "code",
   "execution_count": 3,
   "metadata": {},
   "outputs": [
    {
     "name": "stdout",
     "output_type": "stream",
     "text": [
      "1->3->4->None\n"
     ]
    }
   ],
   "source": [
    "l1 = []\n",
    "\n",
    "n1 = Node(1)\n",
    "n2 = Node(3)\n",
    "n3 = Node(4)\n",
    "n1.next = n2\n",
    "n1.next.next = n3\n",
    "linkedList.print_nodes(linkedList.merge_sorted_list(l1,n1))\n"
   ]
  }
 ],
 "metadata": {
  "kernelspec": {
   "display_name": "Python 3",
   "language": "python",
   "name": "python3"
  },
  "language_info": {
   "codemirror_mode": {
    "name": "ipython",
    "version": 3
   },
   "file_extension": ".py",
   "mimetype": "text/x-python",
   "name": "python",
   "nbconvert_exporter": "python",
   "pygments_lexer": "ipython3",
   "version": "3.12.3"
  }
 },
 "nbformat": 4,
 "nbformat_minor": 2
}
