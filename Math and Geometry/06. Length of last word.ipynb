{
 "cells": [
  {
   "cell_type": "markdown",
   "metadata": {},
   "source": [
    "# 58. Length of Last Word\n",
    "Given a string s consisting of words and spaces, return the length of the last word in the string.\n",
    "\n",
    "A word is a maximal substring consisting of non-space characters only.\n",
    "\n",
    "\n",
    "Example 1:\n",
    "```\n",
    "Input: s = \"Hello World\"\n",
    "Output: 5\n",
    "Explanation: The last word is \"World\" with length 5.\n",
    "```\n",
    "Example 2:\n",
    "```\n",
    "Input: s = \"   fly me   to   the moon  \"\n",
    "Output: 4\n",
    "Explanation: The last word is \"moon\" with length 4.\n",
    "```\n",
    "Example 3:\n",
    "```\n",
    "Input: s = \"luffy is still joyboy\"\n",
    "Output: 6\n",
    "Explanation: The last word is \"joyboy\" with length 6.\n",
    "``` \n",
    "\n",
    "Constraints:\n",
    "\n",
    "1 <= s.length <= 104\n",
    "\n",
    "s consists of only English letters and spaces ' '.\n",
    "\n",
    "There will be at least one word in s."
   ]
  },
  {
   "cell_type": "markdown",
   "metadata": {},
   "source": [
    "### Solution 1: Pythonic way\n",
    "O(n)\n",
    "\n",
    "Inefficient because have to split ever element"
   ]
  },
  {
   "cell_type": "code",
   "execution_count": 8,
   "metadata": {},
   "outputs": [
    {
     "name": "stdout",
     "output_type": "stream",
     "text": [
      "5\n",
      "4\n",
      "6\n"
     ]
    }
   ],
   "source": [
    "def last_word_len(s:str)->int:\n",
    "    return len(s.split()[-1])\n",
    "\n",
    "print(last_word_len(\"Hello World\"))\n",
    "print(last_word_len(\"   fly me   to   the moon  \"))\n",
    "print(last_word_len(\"luffy is still joyboy\"))"
   ]
  },
  {
   "cell_type": "code",
   "execution_count": 18,
   "metadata": {},
   "outputs": [
    {
     "name": "stdout",
     "output_type": "stream",
     "text": [
      "5\n",
      "4\n",
      "6\n",
      "1\n",
      "0\n"
     ]
    }
   ],
   "source": [
    "def last_word_len(s:str)->int:\n",
    "    index = len(s) -1\n",
    "    length = 0\n",
    "    while index >= 0 :\n",
    "        if s[index] == ' ':\n",
    "            index -= 1\n",
    "        if s[index] != ' ':\n",
    "            length += 1\n",
    "            index -= 1\n",
    "        if (length>1 and s[index] == ' '):\n",
    "            break\n",
    "    return length\n",
    "\n",
    "\n",
    "print(last_word_len(\"Hello World\"))\n",
    "print(last_word_len(\"   fly me   to   the moon  \"))\n",
    "print(last_word_len(\"luffy is still joyboy\"))\n",
    "print(last_word_len(\"a\"))\n",
    "print(last_word_len(\" \"))\n"
   ]
  }
 ],
 "metadata": {
  "kernelspec": {
   "display_name": "Python 3",
   "language": "python",
   "name": "python3"
  },
  "language_info": {
   "codemirror_mode": {
    "name": "ipython",
    "version": 3
   },
   "file_extension": ".py",
   "mimetype": "text/x-python",
   "name": "python",
   "nbconvert_exporter": "python",
   "pygments_lexer": "ipython3",
   "version": "3.12.3"
  }
 },
 "nbformat": 4,
 "nbformat_minor": 2
}
