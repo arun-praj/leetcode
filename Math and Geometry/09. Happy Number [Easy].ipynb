{
 "cells": [
  {
   "cell_type": "markdown",
   "metadata": {},
   "source": [
    "### Solution 1: Using math\n",
    "#### Time O(n*m)"
   ]
  },
  {
   "cell_type": "code",
   "execution_count": 73,
   "metadata": {},
   "outputs": [
    {
     "name": "stdout",
     "output_type": "stream",
     "text": [
      "True\n",
      "False\n",
      "True\n"
     ]
    }
   ],
   "source": [
    "def is_happy_number(digit:int)->bool:\n",
    "    if digit == 1:\n",
    "        return True\n",
    "    \n",
    "    visit = set()\n",
    "    while digit not in visit:\n",
    "        visit.add(digit)\n",
    "        if digit == 1:\n",
    "            return True\n",
    "        sum = 0\n",
    "        while digit:\n",
    "            last_digit = digit %10\n",
    "            sum = sum + last_digit * last_digit\n",
    "            digit = digit // 10\n",
    "        digit = sum\n",
    "    return False\n",
    "print(is_happy_number(19))\n",
    "print(is_happy_number(2))\n",
    "print(is_happy_number(7))"
   ]
  },
  {
   "cell_type": "markdown",
   "metadata": {},
   "source": [
    "### Solution 2: Python way"
   ]
  },
  {
   "cell_type": "code",
   "execution_count": 2,
   "metadata": {},
   "outputs": [
    {
     "name": "stdout",
     "output_type": "stream",
     "text": [
      "True\n",
      "False\n",
      "True\n"
     ]
    }
   ],
   "source": [
    "import functools\n",
    "def is_happy_number(digit:int)->bool:\n",
    "    if digit == 1:\n",
    "        return True\n",
    "    \n",
    "    visit = set()\n",
    "    while digit not in visit:\n",
    "        visit.add(digit)\n",
    "        if digit == 1:\n",
    "            return True\n",
    "        digit = functools.reduce(lambda a,b:a+b,[int(i)**2 for i in str(digit)])\n",
    "    return False\n",
    "\n",
    "print(is_happy_number(19))\n",
    "print(is_happy_number(2))\n",
    "print(is_happy_number(7))"
   ]
  },
  {
   "cell_type": "markdown",
   "metadata": {},
   "source": [
    "### Solution 3: Linked list cycle (Efficient)"
   ]
  }
 ],
 "metadata": {
  "kernelspec": {
   "display_name": "Python 3",
   "language": "python",
   "name": "python3"
  },
  "language_info": {
   "codemirror_mode": {
    "name": "ipython",
    "version": 3
   },
   "file_extension": ".py",
   "mimetype": "text/x-python",
   "name": "python",
   "nbconvert_exporter": "python",
   "pygments_lexer": "ipython3",
   "version": "3.12.3"
  }
 },
 "nbformat": 4,
 "nbformat_minor": 2
}
