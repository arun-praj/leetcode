{
 "cells": [
  {
   "cell_type": "markdown",
   "metadata": {},
   "source": [
    "## 263. Ugly Number\n",
    "Easy\n",
    "\n",
    "An ugly number is a positive integer whose prime factors are limited to 2, 3, and 5.\n",
    "\n",
    "Given an integer n, return true if n is an ugly number.\n",
    "\n",
    " \n",
    "\n",
    "Example 1:\n",
    "```\n",
    "Input: n = 6\n",
    "Output: true\n",
    "Explanation: 6 = 2 × 3\n",
    "```\n",
    "Example 2:\n",
    "```\n",
    "Input: n = 1\n",
    "Output: true\n",
    "Explanation: 1 has no prime factors, therefore all of its prime factors are limited to 2, 3, and 5.\n",
    "```\n",
    "Example 3:\n",
    "```\n",
    "Input: n = 14\n",
    "Output: false\n",
    "Explanation: 14 is not ugly since it includes the prime factor 7.\n",
    " ```\n",
    "\n",
    "Constraints:\n",
    "\n",
    "-231 <= n <= 231 - 1"
   ]
  },
  {
   "cell_type": "code",
   "execution_count": 5,
   "metadata": {},
   "outputs": [
    {
     "name": "stdout",
     "output_type": "stream",
     "text": [
      "True\n",
      "True\n",
      "False\n"
     ]
    }
   ],
   "source": [
    "def is_ugly(n:int)->bool:\n",
    "    if n <= 0:\n",
    "        return False\n",
    "    while True:\n",
    "        if n == 1:\n",
    "            return True\n",
    "        if n % 2 == 0:\n",
    "            n = n/2\n",
    "\n",
    "        elif n % 3 == 0:\n",
    "            n = n/3\n",
    "        elif n % 5 == 0:\n",
    "            n = n/5\n",
    "        else:\n",
    "            return False\n",
    "        \n",
    "print(is_ugly(6))\n",
    "print(is_ugly(1))\n",
    "print(is_ugly(14))"
   ]
  },
  {
   "cell_type": "code",
   "execution_count": 4,
   "metadata": {},
   "outputs": [
    {
     "data": {
      "text/plain": [
       "0"
      ]
     },
     "execution_count": 4,
     "metadata": {},
     "output_type": "execute_result"
    }
   ],
   "source": [
    "0%2"
   ]
  }
 ],
 "metadata": {
  "kernelspec": {
   "display_name": "Python 3",
   "language": "python",
   "name": "python3"
  },
  "language_info": {
   "codemirror_mode": {
    "name": "ipython",
    "version": 3
   },
   "file_extension": ".py",
   "mimetype": "text/x-python",
   "name": "python",
   "nbconvert_exporter": "python",
   "pygments_lexer": "ipython3",
   "version": "3.12.3"
  }
 },
 "nbformat": 4,
 "nbformat_minor": 2
}
