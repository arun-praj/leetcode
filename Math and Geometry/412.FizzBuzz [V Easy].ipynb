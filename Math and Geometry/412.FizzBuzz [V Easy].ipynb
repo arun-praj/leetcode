{
 "cells": [
  {
   "cell_type": "code",
   "execution_count": null,
   "metadata": {
    "vscode": {
     "languageId": "plaintext"
    }
   },
   "outputs": [],
   "source": [
    "def fizzbuzz(n:int)->List[str]:\n",
    "    answer = []\n",
    "    for i in range(1,n+1):\n",
    "        out = \"\"\n",
    "        if i%3 == 0:\n",
    "            out += \"Fizz\"\n",
    "        if i%5 == 0:\n",
    "            out += \"Buzz\"\n",
    "        answer.append(out or str(i))\n",
    "    return answer"
   ]
  }
 ],
 "metadata": {
  "language_info": {
   "name": "python"
  }
 },
 "nbformat": 4,
 "nbformat_minor": 2
}
