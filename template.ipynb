{
 "cells": [
  {
   "cell_type": "markdown",
   "metadata": {},
   "source": [
    "# [TITLE]\n",
    "<span style=\"color: black; background-color:white; padding: 2px 5px; border-radius: 5px;\">[Solve Date]</span> \n",
    "\n",
    "<span style=\"color: green; background-color: #e0f7fa; padding: 2px 5px; border-radius: 5px;\">[Difficulty]</span> \n",
    "<span style=\"color: red; background-color:rgb(250, 224, 243); padding: 2px 5px; border-radius: 5px;\">[Company]</span> \n",
    "<span style=\"color: blue; background-color:rgb(224, 228, 250); padding: 2px 5px; border-radius: 5px;\">[Topics]</span> \n",
    "\n"
   ]
  },
  {
   "cell_type": "markdown",
   "metadata": {},
   "source": [
    "[Description]\n",
    "\n",
    "### Example 1:\n",
    "```python\n",
    "[Example1]\n",
    "```\n",
    "\n",
    "### Example 2:\n",
    "```python\n",
    "[example 2]\n",
    "```\n",
    "\n",
    "### Example 3:\n",
    "```python\n",
    "[example 3]\n",
    "```\n",
    "\n",
    "### Constraints:\n",
    "```python\n",
    "rules\n",
    "```\n",
    "\n"
   ]
  },
  {
   "cell_type": "markdown",
   "metadata": {},
   "source": [
    "### Hints:\n",
    "1. \n",
    "2. "
   ]
  },
  {
   "cell_type": "markdown",
   "metadata": {},
   "source": [
    "### Solution"
   ]
  },
  {
   "cell_type": "code",
   "execution_count": null,
   "metadata": {},
   "outputs": [],
   "source": [
    "#Code goes here"
   ]
  }
 ],
 "metadata": {
  "kernelspec": {
   "display_name": "Python 3",
   "language": "python",
   "name": "python3"
  },
  "language_info": {
   "name": "python",
   "version": "3.12.3"
  }
 },
 "nbformat": 4,
 "nbformat_minor": 2
}
