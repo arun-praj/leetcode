{
 "cells": [
  {
   "cell_type": "markdown",
   "metadata": {},
   "source": [
    "# 121. Best Time to Buy and Sell Stock\n",
    "\n",
    "You are given an array prices where prices[i] is the price of a given stock on the ith day.\n",
    "\n",
    "You want to maximize your profit by choosing a single day to buy one stock and choosing a different day in the future to sell that stock.\n",
    "\n",
    "Return the maximum profit you can achieve from this transaction. If you cannot achieve any profit, return 0.\n",
    "\n",
    " \n",
    "\n",
    "Example 1:\n",
    "```\n",
    "Input: prices = [7,1,5,3,6,4]\n",
    "Output: 5\n",
    "Explanation: Buy on day 2 (price = 1) and sell on day 5 (price = 6), profit = 6-1 = 5.\n",
    "Note that buying on day 2 and selling on day 1 is not allowed because you must buy before you sell.\n",
    "```\n",
    "Example 2:\n",
    "```\n",
    "Input: prices = [7,6,4,3,1]\n",
    "Output: 0\n",
    "Explanation: In this case, no transactions are done and the max profit = 0.\n",
    "```\n",
    "\n",
    "Constraints:\n",
    "\n",
    "1 <= prices.length <= 105\n",
    "0 <= prices[i] <= 104"
   ]
  },
  {
   "cell_type": "markdown",
   "metadata": {},
   "source": [
    "### Solution 1: Two pointers\n",
    "O(n)"
   ]
  },
  {
   "cell_type": "code",
   "execution_count": 50,
   "metadata": {},
   "outputs": [
    {
     "name": "stdout",
     "output_type": "stream",
     "text": [
      "5\n",
      "3\n",
      "0\n",
      "1\n",
      "4\n"
     ]
    }
   ],
   "source": [
    "def maxProfit(prices:list[int])->int:\n",
    "    l,r = 0,1\n",
    "    diff = 0\n",
    "    while r < len(prices) :\n",
    "        while r < len(prices)  and prices[r] <= prices[l]:\n",
    "            l = r\n",
    "            r = l + 1\n",
    "        if r < len(prices):\n",
    "            diff = max(prices[r] - prices[l],diff) \n",
    "        r += 1\n",
    "  \n",
    "    return diff\n",
    "        \n",
    "print(maxProfit([7,1,5,3,6,4]))\n",
    "print(maxProfit([1,2,4]))\n",
    "        \n",
    "print(maxProfit([7,6,4,3,1]))\n",
    "print(maxProfit([7,6,4,3,1,2]))\n",
    "print(maxProfit([3,3,5,0,0,3,1,4]))\n"
   ]
  },
  {
   "cell_type": "markdown",
   "metadata": {},
   "source": [
    "### Solution 2: Sliding Window"
   ]
  },
  {
   "cell_type": "code",
   "execution_count": 52,
   "metadata": {},
   "outputs": [
    {
     "name": "stdout",
     "output_type": "stream",
     "text": [
      "5\n",
      "3\n",
      "0\n",
      "1\n",
      "4\n"
     ]
    }
   ],
   "source": [
    "def maxProfit(prices:list[int])->int:\n",
    "    l,r = 0,1\n",
    "    profit = 0\n",
    "    while r < len(prices) :\n",
    "        if prices[r]> prices[l]:\n",
    "            profit = max( prices[r]- prices[l],profit)\n",
    "        else:\n",
    "            l = r\n",
    "        r+=1\n",
    "    return profit\n",
    "        \n",
    "print(maxProfit([7,1,5,3,6,4]))\n",
    "print(maxProfit([1,2,4]))\n",
    "print(maxProfit([7,6,4,3,1]))\n",
    "print(maxProfit([7,6,4,3,1,2]))\n",
    "print(maxProfit([3,3,5,0,0,3,1,4]))"
   ]
  }
 ],
 "metadata": {
  "kernelspec": {
   "display_name": "Python 3",
   "language": "python",
   "name": "python3"
  },
  "language_info": {
   "codemirror_mode": {
    "name": "ipython",
    "version": 3
   },
   "file_extension": ".py",
   "mimetype": "text/x-python",
   "name": "python",
   "nbconvert_exporter": "python",
   "pygments_lexer": "ipython3",
   "version": "3.12.3"
  }
 },
 "nbformat": 4,
 "nbformat_minor": 2
}
