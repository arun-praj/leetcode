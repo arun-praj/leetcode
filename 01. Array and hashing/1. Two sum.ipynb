{
 "cells": [
  {
   "cell_type": "markdown",
   "metadata": {},
   "source": [
    "# 1. Two sum\n",
    "<span style=\"color: black; background-color:white; padding: 2px 5px; border-radius: 5px;\">2022/4/15</span> \n",
    "\n",
    "<span style=\"color: green; background-color: #e0f7fa; padding: 2px 5px; border-radius: 5px;\">Easy</span> \n",
    "<span style=\"color: red; background-color:rgb(250, 224, 243); padding: 2px 5px; border-radius: 5px;\">Adobe, Amazon, Apple, Facebook, Linkedin, Microsoft, yahoo</span> \n",
    "<span style=\"color: blue; background-color:rgb(224, 228, 250); padding: 2px 5px; border-radius: 5px;\">[Topics]</span> \n",
    "\n"
   ]
  },
  {
   "cell_type": "markdown",
   "metadata": {},
   "source": [
    "Given an array of integers nums and an integer target, return indices of the two numbers such that they add up to target.\n",
    "You may assume that each input would have exactly one solution, and you may not use the same element twice.\n",
    "You can return the answer in any order.\n",
    "\n",
    "### Example 1:\n",
    "```python\n",
    "Input: nums = [2,7,11,15], target = 9\n",
    "Output: [0,1]\n",
    "Explanation: Because nums[0] + nums[1] == 9, we return [0, 1].\n",
    "```\n",
    "\n",
    "### Example 2:\n",
    "```python\n",
    "Input: nums = [3,2,4], target = 6\n",
    "Output: [1,2]\n",
    "```\n",
    "\n",
    "### Constraints:\n",
    "```python\n",
    "2 <= nums.length <= 104\n",
    "-109 <= nums[i] <= 109\n",
    "-109 <= target <= 109\n",
    "Only one valid answer exists.\n",
    "```"
   ]
  },
  {
   "cell_type": "markdown",
   "metadata": {},
   "source": [
    "### Solution\n",
    "O(n) /O(1)"
   ]
  },
  {
   "cell_type": "code",
   "execution_count": null,
   "metadata": {},
   "outputs": [],
   "source": [
    "class Solution:\n",
    "    def twoSum(self, nums: List[int], target: int) -> List[int]:\n",
    "        hashmap = {}\n",
    "        for idx,curr in enumerate(nums):\n",
    "            if curr not in hashmap:\n",
    "                hashmap[target-curr] = idx\n",
    "            else:\n",
    "                return [hashmap[curr],idx] "
   ]
  }
 ],
 "metadata": {
  "kernelspec": {
   "display_name": "Python 3",
   "language": "python",
   "name": "python3"
  },
  "language_info": {
   "name": "python",
   "version": "3.12.3"
  }
 },
 "nbformat": 4,
 "nbformat_minor": 2
}
