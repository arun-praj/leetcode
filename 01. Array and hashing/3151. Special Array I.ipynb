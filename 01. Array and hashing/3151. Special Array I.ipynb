{
 "cells": [
  {
   "cell_type": "markdown",
   "metadata": {},
   "source": [
    "# 3151. Special Array I\n",
    "<span style=\"color: black; background-color:white; padding: 2px 5px; border-radius: 5px;\">2025-2-1</span> \n",
    "\n",
    "<span style=\"color: green; background-color: #e0f7fa; padding: 2px 5px; border-radius: 5px;\">Easy</span> \n",
    "<span style=\"color: red; background-color:rgb(250, 224, 243); padding: 2px 5px; border-radius: 5px;\">______</span> \n",
    "<span style=\"color: blue; background-color:rgb(224, 228, 250); padding: 2px 5px; border-radius: 5px;\">Array</span> \n",
    "\n"
   ]
  },
  {
   "cell_type": "markdown",
   "metadata": {},
   "source": [
    "An array is considered special if every pair of its adjacent elements contains two numbers with different parity.You are given an array of integers ```nums```. Return ```true``` if nums is a special array, otherwise, return ```false```.\n",
    "\n",
    "### Example 1:\n",
    "```python\n",
    "Input: nums = [1]\n",
    "Output: true\n",
    "Explanation:\n",
    "There is only one element. So the answer is true.\n",
    "```\n",
    "\n",
    "### Example 2:\n",
    "```python\n",
    "nput: nums = [2,1,4]\n",
    "Output: true\n",
    "Explanation: \n",
    "There is only two pairs: (2,1) and (1,4), and both of them contain numbers with different parity. So the answer is true.\n",
    "```\n",
    "\n",
    "### Example 3:\n",
    "```python\n",
    "Input: nums = [4,3,1,6]\n",
    "Output: false\n",
    "Explanation:\n",
    "nums[1] and nums[2] are both odd. So the answer is false.\n",
    "```\n",
    "\n",
    "### Constraints:\n",
    "```python\n",
    "1 <= nums.length <= 100\n",
    "1 <= nums[i] <= 100\n",
    "```\n",
    "\n"
   ]
  },
  {
   "cell_type": "markdown",
   "metadata": {},
   "source": [
    "### Solution\n",
    "O(n-1) / O(1)"
   ]
  },
  {
   "cell_type": "code",
   "execution_count": null,
   "metadata": {},
   "outputs": [],
   "source": [
    "from typing import List\n",
    "class Solution:\n",
    "    def isArraySpecial(self, nums: List[int]) -> bool:\n",
    "        for curr in range(len(nums)-1):\n",
    "            if  nums[curr] % 2 == nums[curr+1] % 2:\n",
    "                return False\n",
    "        return True"
   ]
  }
 ],
 "metadata": {
  "kernelspec": {
   "display_name": "Python 3",
   "language": "python",
   "name": "python3"
  },
  "language_info": {
   "name": "python",
   "version": "3.12.3"
  }
 },
 "nbformat": 4,
 "nbformat_minor": 2
}
