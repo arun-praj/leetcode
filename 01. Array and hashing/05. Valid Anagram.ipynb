{
 "cells": [
  {
   "cell_type": "markdown",
   "metadata": {},
   "source": [
    "# 242. Valid Anagram\n",
    "Given two strings s and t, return true if t is an anagram of s, and false otherwise.\n",
    "\n",
    "An Anagram is a word or phrase formed by rearranging the letters of a different word or phrase, typically using all the original letters exactly once.\n",
    "\n",
    "Example 1:\n",
    "```\n",
    "Input: s = \"anagram\", t = \"nagaram\"\n",
    "Output: true\n",
    "```\n",
    "Example 2:\n",
    "```\n",
    "Input: s = \"rat\", t = \"car\"\n",
    "Output: false\n",
    " ```\n",
    "\n",
    "Constraints:\n",
    "\n",
    "1 <= s.length, t.length <= 5 * 104\n",
    "s and t consist of lowercase English letters.\n",
    " \n",
    "\n",
    "Follow up: What if the inputs contain Unicode characters? How would you adapt your solution to such a case?"
   ]
  },
  {
   "cell_type": "markdown",
   "metadata": {},
   "source": [
    "### Solution 1: hashmap with letter count\n",
    "\n",
    "O(n)"
   ]
  },
  {
   "cell_type": "code",
   "execution_count": 2,
   "metadata": {},
   "outputs": [
    {
     "name": "stdout",
     "output_type": "stream",
     "text": [
      "True\n",
      "False\n"
     ]
    }
   ],
   "source": [
    "def is_anagram(s:str,t:str)-> bool:\n",
    "    if len(s) != len(t):\n",
    "        return False\n",
    "    countS ={}\n",
    "    countT ={}\n",
    "    for i in range(len(s)):\n",
    "        countS[s[i]] = 1 + countS.get(s[i],0)\n",
    "        countT[t[i]] = 1 + countT.get(t[i],0)\n",
    "    \n",
    "    return countT == countS\n",
    "\n",
    "\n",
    "print(is_anagram(\"anagram\",\"nagaram\"))\n",
    "print(is_anagram(\"rat\",\"cat\"))"
   ]
  },
  {
   "cell_type": "markdown",
   "metadata": {},
   "source": [
    "### Solution 2: Sorted\n",
    "Time complexity of sorting algo: O(nlogn) for best sort or O(n^2) for bubble sort"
   ]
  },
  {
   "cell_type": "code",
   "execution_count": 1,
   "metadata": {},
   "outputs": [
    {
     "name": "stdout",
     "output_type": "stream",
     "text": [
      "True\n",
      "False\n"
     ]
    }
   ],
   "source": [
    "def is_anagram(s:str,t:str)-> bool:\n",
    "    return sorted(s) == sorted(t)\n",
    "\n",
    "print(is_anagram(\"anagram\",\"nagaram\"))\n",
    "print(is_anagram(\"rat\",\"cat\"))"
   ]
  },
  {
   "cell_type": "code",
   "execution_count": null,
   "metadata": {},
   "outputs": [],
   "source": [
    "def isPalindrome( s: str) -> bool:\n",
    "    left,right = 0, len(s)-1\n",
    "    s = s.lower()\n",
    "    while left<right:\n",
    "        if not s[left].isalnum():\n",
    "            left += 1\n",
    "            continue\n",
    "\n",
    "        if not s[right].isalnum():\n",
    "            right -= 1\n",
    "            continue \n",
    "            \n",
    "        if s[left]!=s[right]:\n",
    "            return False\n",
    "        left += 1\n",
    "        right -= 1\n",
    "    return True\n",
    "\n",
    "isPalindrome(\"Was it a car or a cat I saw?\")"
   ]
  }
 ],
 "metadata": {
  "kernelspec": {
   "display_name": "Python 3",
   "language": "python",
   "name": "python3"
  },
  "language_info": {
   "codemirror_mode": {
    "name": "ipython",
    "version": 3
   },
   "file_extension": ".py",
   "mimetype": "text/x-python",
   "name": "python",
   "nbconvert_exporter": "python",
   "pygments_lexer": "ipython3",
   "version": "3.12.3"
  }
 },
 "nbformat": 4,
 "nbformat_minor": 2
}
