{
 "cells": [
  {
   "cell_type": "markdown",
   "metadata": {},
   "source": [
    "# 49. Group Anagrams\n",
    "Given an array of strings strs, group the anagrams together. You can return the answer in any order.\n",
    "\n",
    "An Anagram is a word or phrase formed by rearranging the letters of a different word or phrase, typically using all the original letters exactly once.\n",
    "\n",
    " \n",
    "\n",
    "Example 1:\n",
    "```\n",
    "Input: strs = [\"eat\",\"tea\",\"tan\",\"ate\",\"nat\",\"bat\"]\n",
    "Output: [[\"bat\"],[\"nat\",\"tan\"],[\"ate\",\"eat\",\"tea\"]]\n",
    "```\n",
    "Example 2:\n",
    "```\n",
    "Input: strs = [\"\"]\n",
    "Output: [[\"\"]]\n",
    "```\n",
    "Example 3:\n",
    "```\n",
    "Input: strs = [\"a\"]\n",
    "Output: [[\"a\"]]\n",
    "```\n",
    "\n",
    "Constraints:\n",
    "\n",
    "1 <= strs.length <= 104\n",
    "0 <= strs[i].length <= 100\n",
    "strs[i] consists of lowercase English letters."
   ]
  },
  {
   "cell_type": "code",
   "execution_count": 23,
   "metadata": {},
   "outputs": [
    {
     "name": "stdout",
     "output_type": "stream",
     "text": [
      "defaultdict(<class 'list'>,\n",
      "            {(0, 0, 0, 1, 0, 0, 10, 0, 0, 0, 0, 0, 0, 0, 0, 0, 0, 0, 0, 0, 0, 0, 0, 0, 0, 0): ['dgggggggggg'],\n",
      "             (0, 0, 0, 10, 0, 0, 1, 0, 0, 0, 0, 0, 0, 0, 0, 0, 0, 0, 0, 0, 0, 0, 0, 0, 0, 0): ['ddddddddddg']})\n",
      "dict_values([['ddddddddddg'], ['dgggggggggg']])\n"
     ]
    }
   ],
   "source": [
    "from collections import defaultdict\n",
    "import pprint\n",
    "\n",
    "\n",
    "def group_anagram(strs:list[str])->list[list[str]]:\n",
    "    res = defaultdict(list)\n",
    "    for each in strs:\n",
    "        alphabet_count = [0] * 26\n",
    "        for l in each:\n",
    "            alphabet_count[ord(l) - ord('a')] += 1\n",
    "        res[tuple(alphabet_count)].append(each)\n",
    "\n",
    "    pprint.pprint(res)\n",
    "    return res.values()\n",
    "\n",
    "\n",
    "        \n",
    "\n",
    "# print(group_anagram([\"eat\",\"tea\",\"tan\",\"ate\",\"nat\",\"bat\"]))\n",
    "print(group_anagram([\"ddddddddddg\",\"dgggggggggg\"]))"
   ]
  },
  {
   "cell_type": "code",
   "execution_count": 14,
   "metadata": {},
   "outputs": [
    {
     "data": {
      "text/plain": [
       "[0, 0, 0, 0, 0, 0, 0, 0, 0, 0, 0, 0, 0, 0, 0, 0, 0, 0, 0, 0, 0, 0, 0, 0, 0, 0]"
      ]
     },
     "execution_count": 14,
     "metadata": {},
     "output_type": "execute_result"
    }
   ],
   "source": [
    "[0] * 26"
   ]
  }
 ],
 "metadata": {
  "kernelspec": {
   "display_name": "Python 3",
   "language": "python",
   "name": "python3"
  },
  "language_info": {
   "codemirror_mode": {
    "name": "ipython",
    "version": 3
   },
   "file_extension": ".py",
   "mimetype": "text/x-python",
   "name": "python",
   "nbconvert_exporter": "python",
   "pygments_lexer": "ipython3",
   "version": "3.12.3"
  }
 },
 "nbformat": 4,
 "nbformat_minor": 2
}
