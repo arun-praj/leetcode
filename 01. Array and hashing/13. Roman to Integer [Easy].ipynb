{
 "cells": [
  {
   "cell_type": "markdown",
   "metadata": {},
   "source": [
    "# 13. Roman to Integer\n",
    "[#Solved]()\n",
    " [#EASY]()\n",
    "\n",
    "Topics\n",
    "\n",
    "[#Math]() [#Hashing]()\n",
    "\n",
    "\n",
    "\n",
    "\n",
    "Roman numerals are represented by seven different symbols: I, V, X, L, C, D and M.<br/>\n",
    "\n",
    "Symbol       Value<br/>\n",
    "I             1<br/>\n",
    "V             5<br/>\n",
    "X             10<br/>\n",
    "L             50<br/>\n",
    "C             100<br/>\n",
    "D             500<br/>\n",
    "M             1000<br/>\n",
    "For example, 2 is written as II in Roman numeral, just two ones added together. 12 is written as XII, which is simply X + II. The number 27 is written as XXVII, which is XX + V + II.<br/>\n",
    "\n",
    "Roman numerals are usually written largest to smallest from left to right. However, the numeral for four is not IIII. Instead, the number four is written as IV. Because the one is before the five we subtract it making four. The same principle applies to the number nine, which is written as IX. There are six instances where subtraction is used:<br/>\n",
    "\n",
    "I can be placed before V (5) and X (10) to make 4 and 9. <br/>\n",
    "X can be placed before L (50) and C (100) to make 40 and 90. <br/>\n",
    "C can be placed before D (500) and M (1000) to make 400 and 900.<br/>\n",
    "Given a roman numeral, convert it to an integer.<br/>\n",
    "\n",
    " \n",
    "\n",
    "Example 1:\n",
    "```\n",
    "Input: s = \"III\"\n",
    "Output: 3\n",
    "Explanation: III = 3.\n",
    "```\n",
    "Example 2:\n",
    "```\n",
    "Input: s = \"LVIII\"\n",
    "Output: 58\n",
    "Explanation: L = 50, V= 5, III = 3.\n",
    "```\n",
    "Example 3:\n",
    "```\n",
    "Input: s = \"MCMXCIV\"\n",
    "Output: 1994\n",
    "Explanation: M = 1000, CM = 900, XC = 90 and IV = 4.\n",
    "```\n",
    "\n",
    "Constraints:\n",
    "\n",
    "1 <= s.length <= 15\n",
    "s contains only the characters ('I', 'V', 'X', 'L', 'C', 'D', 'M').\n",
    "It is guaranteed that s is a valid roman numeral in the range [1, 3999]."
   ]
  },
  {
   "cell_type": "markdown",
   "metadata": {},
   "source": [
    "### Time Complexity: O(n)\n",
    "### Space Complexity: O(1)"
   ]
  },
  {
   "cell_type": "code",
   "execution_count": 38,
   "metadata": {},
   "outputs": [
    {
     "name": "stdout",
     "output_type": "stream",
     "text": [
      "58\n",
      "3\n",
      "1994\n"
     ]
    }
   ],
   "source": [
    "def romanToInt(s: str) -> int:\n",
    "    symbols = {\n",
    "        \"I\":1,\n",
    "        \"V\":5,\n",
    "        \"X\":10,\n",
    "        \"L\":50, \n",
    "        \"C\" :100,\n",
    "        \"D\" :500,\n",
    "        \"M\" :1000\n",
    "    }\n",
    "    sum = 0\n",
    "    prev = 0\n",
    "    for i in s:\n",
    "        if symbols[i] > prev:\n",
    "            sum= (sum - prev)  + (symbols[i] - prev)\n",
    "        else:\n",
    "            sum = sum+symbols[i]\n",
    "        prev = symbols[i]\n",
    "    return sum\n",
    "print(romanToInt('LVIII'))\n",
    "print(romanToInt('III'))\n",
    "print(romanToInt('MCMXCIV'))"
   ]
  }
 ],
 "metadata": {
  "kernelspec": {
   "display_name": "Python 3",
   "language": "python",
   "name": "python3"
  },
  "language_info": {
   "codemirror_mode": {
    "name": "ipython",
    "version": 3
   },
   "file_extension": ".py",
   "mimetype": "text/x-python",
   "name": "python",
   "nbconvert_exporter": "python",
   "pygments_lexer": "ipython3",
   "version": "3.12.3"
  }
 },
 "nbformat": 4,
 "nbformat_minor": 2
}
