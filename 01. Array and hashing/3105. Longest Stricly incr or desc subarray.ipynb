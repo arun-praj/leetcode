{
 "cells": [
  {
   "cell_type": "markdown",
   "metadata": {},
   "source": [
    "# 3105. Longest Strictly Increasing or Strictly Decreasing Subarray\n",
    "\n",
    "You are given an array of integers nums. Return the length of the longest \n",
    "subarray of nums which is either strictly increasing or strictly decreasing.    "
   ]
  },
  {
   "cell_type": "markdown",
   "metadata": {},
   "source": [
    "### Example 1\n",
    "```python\n",
    "Input: nums = [1,4,3,3,2]\n",
    "Output: 2\n",
    "Explanation:\n",
    "The strictly increasing subarrays of nums are [1], [2], [3], [3], [4], and [1,4].\n",
    "The strictly decreasing subarrays of nums are [1], [2], [3], [3], [4], [3,2], and [4,3].\n",
    "Hence, we return 2.\n",
    "```\n",
    "\n",
    "### Example 2\n",
    "```python\n",
    "Input: nums = [3,3,3,3]\n",
    "Output: 1\n",
    "Explanation:\n",
    "The strictly increasing subarrays of nums are [3], [3], [3], and [3].\n",
    "The strictly decreasing subarrays of nums are [3], [3], [3], and [3].\n",
    "Hence, we return 1.\n",
    "```\n",
    "\n",
    "### Example 3\n",
    "```python\n",
    "Input: nums = [3,2,1]\n",
    "Output: 3\n",
    "Explanation:\n",
    "The strictly increasing subarrays of nums are [3], [2], and [1].\n",
    "The strictly decreasing subarrays of nums are [3], [2], [1], [3,2], [2,1], and [3,2,1].\n",
    "Hence, we return 3.\n",
    "```\n",
    "\n",
    "### Contraints\n",
    "```python\n",
    "1 <= nums.length <= 50\n",
    "1 <= nums[i] <= 50\n",
    "```"
   ]
  },
  {
   "cell_type": "markdown",
   "metadata": {},
   "source": [
    "### Hint\n",
    "![Sample Image](../static/image.png) "
   ]
  },
  {
   "cell_type": "code",
   "execution_count": null,
   "metadata": {},
   "outputs": [
    {
     "name": "stdout",
     "output_type": "stream",
     "text": [
      "4\n"
     ]
    }
   ],
   "source": [
    "class Solution:\n",
    "    def longestMonotonicSubarray(self, nums: List[int]) -> int:\n",
    "        incLength,decLength = 1,1\n",
    "        maxLength = 1\n",
    "        \n",
    "        for i in range(len(nums)-1):\n",
    "            if nums[i+1] > nums[i]:\n",
    "                incLength += 1\n",
    "                decLength = 1\n",
    "            elif nums[i] > nums[i+1]:\n",
    "                decLength +=1\n",
    "                incLength = 1\n",
    "            else:\n",
    "                incLength,decLength = 1,1\n",
    "            maxLength = max(maxLength,incLength,decLength)\n",
    "        return maxLength\n"
   ]
  },
  {
   "cell_type": "code",
   "execution_count": null,
   "metadata": {},
   "outputs": [],
   "source": []
  }
 ],
 "metadata": {
  "kernelspec": {
   "display_name": "Python 3",
   "language": "python",
   "name": "python3"
  },
  "language_info": {
   "codemirror_mode": {
    "name": "ipython",
    "version": 3
   },
   "file_extension": ".py",
   "mimetype": "text/x-python",
   "name": "python",
   "nbconvert_exporter": "python",
   "pygments_lexer": "ipython3",
   "version": "3.12.3"
  }
 },
 "nbformat": 4,
 "nbformat_minor": 2
}
