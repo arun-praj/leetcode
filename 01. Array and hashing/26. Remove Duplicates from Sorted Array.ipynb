{
 "cells": [
  {
   "cell_type": "markdown",
   "metadata": {},
   "source": [
    "### Solution using Hashset"
   ]
  },
  {
   "cell_type": "code",
   "execution_count": 2,
   "metadata": {},
   "outputs": [
    {
     "data": {
      "text/plain": [
       "[1, 2, '_']"
      ]
     },
     "execution_count": 2,
     "metadata": {},
     "output_type": "execute_result"
    }
   ],
   "source": [
    "def removeDuplicates(nums:list[int])->list[int]:\n",
    "    hashset = set()\n",
    "    pointer = 0\n",
    "    for i in range(len(nums)):\n",
    "        if nums[pointer] in hashset:\n",
    "            del nums[pointer]\n",
    "            nums.append('_')\n",
    "        else:\n",
    "            hashset.add(nums[pointer])\n",
    "            pointer += 1\n",
    "nums = [0,0,1,1,1,2,2,3,3,4]\n",
    "nums = [1,1,2]\n",
    "removeDuplicates(nums)\n",
    "nums"
   ]
  }
 ],
 "metadata": {
  "kernelspec": {
   "display_name": "Python 3",
   "language": "python",
   "name": "python3"
  },
  "language_info": {
   "codemirror_mode": {
    "name": "ipython",
    "version": 3
   },
   "file_extension": ".py",
   "mimetype": "text/x-python",
   "name": "python",
   "nbconvert_exporter": "python",
   "pygments_lexer": "ipython3",
   "version": "3.12.3"
  }
 },
 "nbformat": 4,
 "nbformat_minor": 2
}
