{
 "cells": [
  {
   "cell_type": "markdown",
   "metadata": {},
   "source": [
    "# 392. Is Subsequence\n",
    "Easy\n",
    "\n",
    "[# Two pointers]()\n",
    "[# String]()   \n",
    "[# Dynamic Programming]()   \n",
    "\n",
    "Given two strings s and t, return true if s is a subsequence of t, or false otherwise.\n",
    "\n",
    "A subsequence of a string is a new string that is formed from the original string by deleting some (can be none) of the characters without disturbing the relative positions of the remaining characters. (i.e., \"ace\" is a subsequence of \"abcde\" while \"aec\" is not).\n",
    "\n",
    " \n",
    "\n",
    "Example 1:\n",
    "\n",
    "Input: s = \"abc\", t = \"ahbgdc\"\n",
    "Output: true\n",
    "Example 2:\n",
    "\n",
    "Input: s = \"axc\", t = \"ahbgdc\"\n",
    "Output: false\n",
    " \n",
    "\n",
    "Constraints:\n",
    "\n",
    "0 <= s.length <= 100\n",
    "0 <= t.length <= 104\n",
    "s and t consist only of lowercase English letters."
   ]
  },
  {
   "cell_type": "code",
   "execution_count": 13,
   "metadata": {},
   "outputs": [
    {
     "name": "stdout",
     "output_type": "stream",
     "text": [
      "True\n",
      "False\n"
     ]
    }
   ],
   "source": [
    "def isSubsequence(s: str, t: str) -> bool:\n",
    "    ptr_s,ptr_t = 0,0\n",
    "    while ptr_s < len(s) and ptr_t < len(t):\n",
    "        if s[ptr_s] == t[ptr_t]:\n",
    "            ptr_s +=1\n",
    "\n",
    "        ptr_t +=1\n",
    "    \n",
    "    return ptr_s == len(s)\n",
    "\n",
    "s = \"abc\"\n",
    "t = \"ahbgdc\"\n",
    "print(isSubsequence(s,t))\n",
    "\n",
    "s =\"axc\"\n",
    "t =\"ahbgdc\"\n",
    "print(isSubsequence(s,t))\n"
   ]
  }
 ],
 "metadata": {
  "kernelspec": {
   "display_name": "Python 3",
   "language": "python",
   "name": "python3"
  },
  "language_info": {
   "codemirror_mode": {
    "name": "ipython",
    "version": 3
   },
   "file_extension": ".py",
   "mimetype": "text/x-python",
   "name": "python",
   "nbconvert_exporter": "python",
   "pygments_lexer": "ipython3",
   "version": "3.12.3"
  }
 },
 "nbformat": 4,
 "nbformat_minor": 2
}
