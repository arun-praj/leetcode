{
 "cells": [
  {
   "cell_type": "markdown",
   "metadata": {},
   "source": [
    "# 1704. Determine if String Halves Are Alike\n",
    "Solved\n",
    "Easy\n",
    "Topics\n",
    "Companies\n",
    "Hint\n",
    "You are given a string s of even length. Split this string into two halves of equal lengths, and let a be the first half and b be the second half.\n",
    "\n",
    "Two strings are alike if they have the same number of vowels ('a', 'e', 'i', 'o', 'u', 'A', 'E', 'I', 'O', 'U'). Notice that s contains uppercase and lowercase letters.\n",
    "\n",
    "Return true if a and b are alike. Otherwise, return false.\n",
    "\n",
    " \n",
    "\n",
    "Example 1:\n",
    "\n",
    "Input: s = \"book\"\n",
    "Output: true\n",
    "Explanation: a = \"bo\" and b = \"ok\". a has 1 vowel and b has 1 vowel. Therefore, they are alike.\n",
    "Example 2:\n",
    "\n",
    "Input: s = \"textbook\"\n",
    "Output: false\n",
    "Explanation: a = \"text\" and b = \"book\". a has 1 vowel whereas b has 2. Therefore, they are not alike.\n",
    "Notice that the vowel o is counted twice.\n",
    " \n",
    "\n",
    "Constraints:\n",
    "\n",
    "2 <= s.length <= 1000\n",
    "s.length is even.\n",
    "s consists of uppercase and lowercase letters."
   ]
  },
  {
   "cell_type": "code",
   "execution_count": 1,
   "metadata": {},
   "outputs": [
    {
     "data": {
      "text/plain": [
       "False"
      ]
     },
     "execution_count": 1,
     "metadata": {},
     "output_type": "execute_result"
    }
   ],
   "source": [
    "def halvesAreAlike(s: str) -> bool:\n",
    "    leftCount,rightCount = 0,0\n",
    "    vowels = ('a','e','i','o','u')\n",
    "    for index,char in enumerate(s):\n",
    "        if char.lower() in vowels:\n",
    "            if index < len(s)/2:\n",
    "                leftCount += 1\n",
    "            else:\n",
    "                rightCount += 1\n",
    "    return leftCount == rightCount\n",
    "\n",
    "s = \"textbook\"\n",
    "\n",
    "halvesAreAlike(s)"
   ]
  }
 ],
 "metadata": {
  "kernelspec": {
   "display_name": "Python 3",
   "language": "python",
   "name": "python3"
  },
  "language_info": {
   "codemirror_mode": {
    "name": "ipython",
    "version": 3
   },
   "file_extension": ".py",
   "mimetype": "text/x-python",
   "name": "python",
   "nbconvert_exporter": "python",
   "pygments_lexer": "ipython3",
   "version": "3.12.3"
  }
 },
 "nbformat": 4,
 "nbformat_minor": 2
}
