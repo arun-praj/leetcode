{
 "cells": [
  {
   "cell_type": "markdown",
   "metadata": {},
   "source": [
    "## Solution 1: Sorted + Two pointer\n",
    "\n",
    "Time Complexity: O(log n + log m)\n",
    "\n",
    "Space: O(n + m)"
   ]
  },
  {
   "cell_type": "code",
   "execution_count": null,
   "metadata": {
    "vscode": {
     "languageId": "plaintext"
    }
   },
   "outputs": [],
   "source": [
    "class Solution:\n",
    "    def intersect(self, nums1: List[int], nums2: List[int]) -> List[int]:\n",
    "        nums1,nums2 = sorted(nums1),sorted(nums2)\n",
    "        out = []\n",
    "        left,right = 0,0\n",
    "        while left < len(nums1) and right < len(nums2):\n",
    "            if nums1[left] < nums2[right]:\n",
    "                left += 1\n",
    "            elif nums1[left] > nums2[right]:\n",
    "                right += 1\n",
    "            else:\n",
    "                out.append(nums1[left])\n",
    "                left+=1\n",
    "                right+=1\n",
    "        return out"
   ]
  },
  {
   "cell_type": "markdown",
   "metadata": {},
   "source": [
    "## Solution 2: Counting"
   ]
  },
  {
   "cell_type": "code",
   "execution_count": null,
   "metadata": {
    "vscode": {
     "languageId": "plaintext"
    }
   },
   "outputs": [],
   "source": [
    "def intersect(nums1,nums2):\n",
    "\n",
    "    if len(nums2) < len(nums1) return intersect(nums2,nums1)\n",
    "    \n",
    "    count2 = {}\n",
    "    for i in nums2:\n",
    "        count2[i] = count2.get(i,0) + 1\n",
    "    \n",
    "    output = []\n",
    "\n",
    "    for i in nums1:\n",
    "        if count2[i] > 0:\n",
    "            output.append(i)\n",
    "            count2[i] -= 1\n",
    "    return output\n"
   ]
  }
 ],
 "metadata": {
  "language_info": {
   "name": "python"
  }
 },
 "nbformat": 4,
 "nbformat_minor": 2
}
