{
 "cells": [
  {
   "cell_type": "markdown",
   "metadata": {},
   "source": [
    "# 125. Valid Palindrome\n",
    "A phrase is a palindrome if, after converting all uppercase letters into lowercase letters and removing all non-alphanumeric characters, it reads the same forward and backward. Alphanumeric characters include letters and numbers.\n",
    "\n",
    "Given a string ```s```, return ```true``` if it is a palindrome, or ```false``` otherwise."
   ]
  },
  {
   "cell_type": "markdown",
   "metadata": {},
   "source": [
    "Example 1:\n",
    "```\n",
    "Input: s = \"A man, a plan, a canal: Panama\"\n",
    "Output: true\n",
    "Explanation: \"amanaplanacanalpanama\" is a palindrome.\n",
    "```\n",
    "\n",
    "Example 2:\n",
    "```\n",
    "Input: s = \"race a car\"\n",
    "Output: false\n",
    "Explanation: \"raceacar\" is not a palindrome.\n",
    "```\n",
    "Example 3:\n",
    "```\n",
    "Input: s = \" \"\n",
    "Output: true\n",
    "```\n",
    "Explanation: s is an empty string \"\" after removing non-alphanumeric characters.\n",
    "Since an empty string reads the same forward and backward, it is a palindrome."
   ]
  },
  {
   "cell_type": "markdown",
   "metadata": {},
   "source": [
    "### Solution (using left,right pointer)\n",
    "\n",
    "#### Time Complexity: O(n)"
   ]
  },
  {
   "cell_type": "code",
   "execution_count": 25,
   "metadata": {},
   "outputs": [
    {
     "name": "stdout",
     "output_type": "stream",
     "text": [
      "True\n",
      "False\n",
      "True\n",
      "True\n",
      "True\n"
     ]
    }
   ],
   "source": [
    "def is_palindrome(s:str)-> bool:\n",
    "        \n",
    "    left,right = 0,len(s) - 1 \n",
    "\n",
    "    while left < right:\n",
    "        while not s[left].isalnum():\n",
    "            left += 1\n",
    "        while not s[right].isalnum():\n",
    "            right -= 1\n",
    "        if s[left].lower() != s[right].lower():\n",
    "            return False\n",
    "       \n",
    "        left,right = left +1,right-1\n",
    " \n",
    "    return True\n",
    "\n",
    "print(is_palindrome(\"A man, a plan, a canal: Panama\"))\n",
    "print(is_palindrome(\"race a car\"))\n",
    "print(is_palindrome(\" \"))\n",
    "print(is_palindrome(\"1234321\"))\n",
    "print(is_palindrome(\"         00\"))\n",
    "\n",
    "\n"
   ]
  },
  {
   "cell_type": "markdown",
   "metadata": {},
   "source": [
    "### Solution 2 (Reversing the str)\n",
    "#### Time complexity: O(n)"
   ]
  },
  {
   "cell_type": "code",
   "execution_count": 52,
   "metadata": {},
   "outputs": [
    {
     "name": "stdout",
     "output_type": "stream",
     "text": [
      "True\n",
      "False\n",
      "True\n",
      "True\n",
      "False\n"
     ]
    }
   ],
   "source": [
    "def is_palindrome(s:str)-> bool:\n",
    "    formatted_str = ''\n",
    "    for i in s:\n",
    "       if i.isalnum():\n",
    "           formatted_str += i.strip().lower()\n",
    "    return formatted_str == formatted_str[::-1]\n",
    " \n",
    "\n",
    "\n",
    "print(is_palindrome(\"A man, a plan, a canal: Panama\"))\n",
    "print(is_palindrome(\"race a car\"))\n",
    "print(is_palindrome(\" \"))\n",
    "print(is_palindrome(\"1234321\"))\n",
    "print(is_palindrome(\"13\"))"
   ]
  },
  {
   "cell_type": "code",
   "execution_count": 30,
   "metadata": {},
   "outputs": [
    {
     "data": {
      "text/plain": [
       "'amanaP :lanac a ,nalp a ,nam A'"
      ]
     },
     "execution_count": 30,
     "metadata": {},
     "output_type": "execute_result"
    }
   ],
   "source": []
  }
 ],
 "metadata": {
  "kernelspec": {
   "display_name": "Python 3",
   "language": "python",
   "name": "python3"
  },
  "language_info": {
   "codemirror_mode": {
    "name": "ipython",
    "version": 3
   },
   "file_extension": ".py",
   "mimetype": "text/x-python",
   "name": "python",
   "nbconvert_exporter": "python",
   "pygments_lexer": "ipython3",
   "version": "3.12.3"
  }
 },
 "nbformat": 4,
 "nbformat_minor": 2
}
