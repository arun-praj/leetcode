{
 "cells": [
  {
   "cell_type": "code",
   "execution_count": null,
   "metadata": {},
   "outputs": [
    {
     "data": {
      "text/plain": [
       "[[-2, -1, 3], [-2, 0, 2], [-1, 0, 1]]"
      ]
     },
     "execution_count": 23,
     "metadata": {},
     "output_type": "execute_result"
    }
   ],
   "source": [
    "nums = [3,0,-2,-1,1,2]\n",
    "nums = sorted(nums)\n",
    "out = []\n",
    "for i in range(len(nums) - 2):\n",
    "    left,right = i+1, len(nums)-1\n",
    "\n",
    "    if i > 0 and nums[i] ==nums[i-1]:\n",
    "        continue\n",
    "\n",
    "    while left<right:\n",
    "        sum = nums[i] + nums[left] + nums[right]\n",
    "        if sum < 0:\n",
    "            left+=1\n",
    "        elif sum > 0:\n",
    "            right-=1\n",
    "        else:\n",
    "            out.append([nums[i],nums[left],nums[right]])\n",
    "            \n",
    "            while left<right and nums[nums]==nums[nums+1]:\n",
    "                left+=1\n",
    "            while left < right and nums[right] == nums[right - 1]:\n",
    "                right -= 1\n",
    "            left+=1\n",
    "            right-=1"
   ]
  },
  {
   "cell_type": "code",
   "execution_count": null,
   "metadata": {},
   "outputs": [],
   "source": []
  }
 ],
 "metadata": {
  "kernelspec": {
   "display_name": "Python 3",
   "language": "python",
   "name": "python3"
  },
  "language_info": {
   "codemirror_mode": {
    "name": "ipython",
    "version": 3
   },
   "file_extension": ".py",
   "mimetype": "text/x-python",
   "name": "python",
   "nbconvert_exporter": "python",
   "pygments_lexer": "ipython3",
   "version": "3.12.3"
  }
 },
 "nbformat": 4,
 "nbformat_minor": 2
}
