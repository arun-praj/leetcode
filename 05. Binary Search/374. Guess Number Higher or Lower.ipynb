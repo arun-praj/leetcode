{
 "cells": [
  {
   "cell_type": "markdown",
   "metadata": {},
   "source": [
    "# 374. Guess Number Higher or Lower"
   ]
  },
  {
   "cell_type": "markdown",
   "metadata": {},
   "source": [
    "<span style=\"color: green; background-color: #e0f7fa; padding: 2px 5px; border-radius: 5px;\">Easy</span> \n",
    "<span style=\"color: red; background-color:rgb(250, 224, 243); padding: 2px 5px; border-radius: 5px;\">Google</span> "
   ]
  },
  {
   "cell_type": "markdown",
   "metadata": {},
   "source": [
    "We are playing the Guess Game. The game is as follows: I pick a number from 1 to n. You have to guess which number I picked.Every time you guess wrong, I will tell you whether the number I picked is higher or lower than your guess.\n",
    "\n",
    "You call a pre-defined API ```int guess(int num)```, which returns three possible results:\n",
    "\n",
    "- ```-1```: Your guess is higher than the number I picked (i.e. num > pick).\n",
    "- ```1```: Your guess is lower than the number I picked (i.e. num < pick).\n",
    "- ```0```: your guess is equal to the number I picked (i.e. num == pick).\n",
    "Return the number that I picked."
   ]
  },
  {
   "cell_type": "markdown",
   "metadata": {},
   "source": [
    "<i>Return the number that I picked.</i>\n",
    "\n"
   ]
  },
  {
   "cell_type": "markdown",
   "metadata": {},
   "source": [
    "Example 1:\n",
    "```\n",
    "Input: n = 10, pick = 6\n",
    "Output: 6\n",
    "```\n",
    "\n",
    "Example 2:\n",
    "```\n",
    "Input: n = 1, pick = 1\n",
    "Output: 1\n",
    "```\n",
    "\n",
    "Constraints:\n",
    "```\n",
    "i. 1 <= n <= 231 - 1\n",
    "ii. 1 <= pick <= n\n",
    "```"
   ]
  },
  {
   "cell_type": "code",
   "execution_count": null,
   "metadata": {},
   "outputs": [],
   "source": [
    "# The guess API is already defined for you\n",
    "class Solution:\n",
    "    def guessNumber(self, n: int) -> int:  \n",
    "        left,right = 1, n\n",
    "      \n",
    "        while left<=right:\n",
    "            mid = (left + right) // 2\n",
    "\n",
    "            if guess(mid) == 1:\n",
    "                left = mid+1\n",
    "            elif guess(mid) == -1:\n",
    "                right = mid=1\n",
    "            else:\n",
    "                return mid\n"
   ]
  }
 ],
 "metadata": {
  "kernelspec": {
   "display_name": "Python 3",
   "language": "python",
   "name": "python3"
  },
  "language_info": {
   "name": "python",
   "version": "3.12.3"
  }
 },
 "nbformat": 4,
 "nbformat_minor": 2
}
