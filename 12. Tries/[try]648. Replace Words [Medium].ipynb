{
 "cells": [
  {
   "cell_type": "code",
   "execution_count": 28,
   "metadata": {},
   "outputs": [
    {
     "name": "stdout",
     "output_type": "stream",
     "text": [
      "the cat was rat by the bat\n"
     ]
    }
   ],
   "source": [
    "class TreeNode:\n",
    "    def __init__(self,isWord:bool=False):\n",
    "        self.children = {}\n",
    "        self.isWord=isWord\n",
    "\n",
    "\n",
    "class Tries:\n",
    "\n",
    "    def __init__(self):\n",
    "        self.head = TreeNode()\n",
    "\n",
    "    def insert(self,word:str):\n",
    "        curr = self.head\n",
    "\n",
    "        for char in word:\n",
    "            if char not in curr.children:\n",
    "                curr.children[char] = TreeNode()\n",
    "            curr = curr.children[char]\n",
    "        curr.isWord = True\n",
    "\n",
    "    def search(self,word):\n",
    "        curr = self.head\n",
    "        dictinoary = \"\"\n",
    "        for char in word:\n",
    "            if curr.isWord:\n",
    "                return dictinoary\n",
    "            if char not in curr.children:\n",
    "                return word\n",
    "            curr = curr.children[char]\n",
    "            dictinoary += char\n",
    "\n",
    "        return word\n",
    "    \n",
    "    def replaceWord(self,sentence):\n",
    "        sentence_list = sentence.split(\" \")\n",
    "        for idx,word in enumerate(sentence_list):\n",
    "            replace_word = self.search(word)\n",
    "            sentence_list[idx] = replace_word\n",
    "\n",
    "        return \" \".join(sentence_list)\n",
    "\n",
    "tries = Tries()\n",
    "\n",
    "tries.insert(\"bat\")\n",
    "tries.insert(\"rat\")\n",
    "tries.insert(\"cat\")\n",
    "\n",
    "tries.search('cat')\n",
    "\n",
    "print(tries.replaceWord(\"the cattle was rattled by the battery\"))\n",
    "\n",
    "tries.insert(\"bat\")\n",
    "tries.insert(\"rat\")\n",
    "tries.insert(\"cat\")\n",
    "\n"
   ]
  },
  {
   "cell_type": "markdown",
   "metadata": {},
   "source": [
    "### Solution using brute force:\n",
    "\n",
    "Time Complexity : O(n^2)\n",
    "space Complexity: O(n)"
   ]
  },
  {
   "cell_type": "code",
   "execution_count": 7,
   "metadata": {},
   "outputs": [],
   "source": [
    "def replaceWords(dictionary: list[str], sentence: str) -> str:\n",
    "    sentence_list = sentence.split(\" \")\n",
    "    for idx,word in enumerate(sentence_list):\n",
    "        for d in dictionary:\n",
    "            if word.startswith(d) and len(d) < len(sentence_list[idx]):\n",
    "                sentence_list[idx] = d\n",
    "    \n",
    "    return \" \".join(sentence_list)"
   ]
  },
  {
   "cell_type": "code",
   "execution_count": 8,
   "metadata": {},
   "outputs": [
    {
     "data": {
      "text/plain": [
       "'the cat was rat by the bat'"
      ]
     },
     "execution_count": 8,
     "metadata": {},
     "output_type": "execute_result"
    }
   ],
   "source": [
    "sentence = \"the cattle was rattled by the battery\"\n",
    "dictionary = [\"cat\",\"bat\",\"rat\"]\n",
    "\n",
    "replaceWords(dictionary,sentence)"
   ]
  },
  {
   "cell_type": "code",
   "execution_count": 15,
   "metadata": {},
   "outputs": [
    {
     "data": {
      "text/plain": [
       "{}"
      ]
     },
     "execution_count": 15,
     "metadata": {},
     "output_type": "execute_result"
    }
   ],
   "source": []
  }
 ],
 "metadata": {
  "kernelspec": {
   "display_name": "Python 3",
   "language": "python",
   "name": "python3"
  },
  "language_info": {
   "codemirror_mode": {
    "name": "ipython",
    "version": 3
   },
   "file_extension": ".py",
   "mimetype": "text/x-python",
   "name": "python",
   "nbconvert_exporter": "python",
   "pygments_lexer": "ipython3",
   "version": "3.12.3"
  }
 },
 "nbformat": 4,
 "nbformat_minor": 2
}
