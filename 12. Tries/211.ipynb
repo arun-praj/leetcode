{
 "cells": [
  {
   "cell_type": "code",
   "execution_count": 14,
   "metadata": {},
   "outputs": [
    {
     "name": "stdout",
     "output_type": "stream",
     "text": [
      "None\n",
      "None\n",
      "None\n"
     ]
    }
   ],
   "source": [
    "class TreeNode:\n",
    "    def __init__(self):\n",
    "        self.children = {}\n",
    "        self.isWord = False\n",
    "class WordDictionary:\n",
    "\n",
    "    def __init__(self):\n",
    "        self.root = TreeNode()\n",
    "\n",
    "    def addWord(self, word: str) -> None:\n",
    "        curr = self.root\n",
    "        for char in word:\n",
    "            if char not in curr.children:\n",
    "                curr.children[char] = TreeNode()\n",
    "            curr = curr.children[char]\n",
    "        curr.isWord = True\n",
    "\n",
    "    def search(self, word: str) -> bool:\n",
    "        curr = self.root\n",
    "\n",
    "        for char in word:\n",
    "            if char == '.':\n",
    "                curr = self.root\n",
    "                continue\n",
    "            if char not in curr.children:\n",
    "                return False\n",
    "            curr = curr.children[char]\n",
    "        return True\n",
    "\n",
    "wordDictionary = WordDictionary();\n",
    "\n",
    "print(wordDictionary.addWord(\"dad\"))\n",
    "print(wordDictionary.addWord(\"bad\"))\n",
    "print(wordDictionary.addWord(\"mad\"))\n",
    "# print(wordDictionary.search(\"pad\"))\n",
    "# print(wordDictionary.search(\"bad\"))\n",
    "print(wordDictionary.search(\".ad\"))\n",
    "# print(wordDictionary.search(\"b..\"))\n"
   ]
  }
 ],
 "metadata": {
  "kernelspec": {
   "display_name": "Python 3",
   "language": "python",
   "name": "python3"
  },
  "language_info": {
   "codemirror_mode": {
    "name": "ipython",
    "version": 3
   },
   "file_extension": ".py",
   "mimetype": "text/x-python",
   "name": "python",
   "nbconvert_exporter": "python",
   "pygments_lexer": "ipython3",
   "version": "3.12.3"
  }
 },
 "nbformat": 4,
 "nbformat_minor": 2
}
