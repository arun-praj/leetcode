{
 "cells": [
  {
   "cell_type": "markdown",
   "metadata": {},
   "source": [
    "# 14. Longest Common Prefix\n",
    "[#Solved]()\n",
    "[#Easy]()\n",
    "\n",
    "Topics\n",
    "\n",
    "[#String #Tries]()\n",
    "\n",
    "Write a function to find the longest common prefix string amongst an array of strings.\n",
    "\n",
    "If there is no common prefix, return an empty string \"\".\n",
    "\n",
    "Example 1:\n",
    "```\n",
    "Input: strs = [\"flower\",\"flow\",\"flight\"]\n",
    "Output: \"fl\"\n",
    "```\n",
    "Example 2:\n",
    "```\n",
    "Input: strs = [\"dog\",\"racecar\",\"car\"]\n",
    "Output: \"\"\n",
    "Explanation: There is no common prefix among the input strings.\n",
    "``` \n",
    "\n",
    "Constraints:\n",
    "\n",
    "1 <= strs.length <= 200\n",
    "0 <= strs[i].length <= 200\n",
    "strs[i] consists of only lowercase English letters."
   ]
  },
  {
   "cell_type": "markdown",
   "metadata": {},
   "source": [
    "### Solution: Tries"
   ]
  },
  {
   "cell_type": "code",
   "execution_count": 1,
   "metadata": {},
   "outputs": [
    {
     "ename": "SyntaxError",
     "evalue": "incomplete input (1811349855.py, line 1)",
     "output_type": "error",
     "traceback": [
      "\u001b[0;36m  Cell \u001b[0;32mIn[1], line 1\u001b[0;36m\u001b[0m\n\u001b[0;31m    def longestCommonPrefix(strs:list[str])->str:\u001b[0m\n\u001b[0m                                                 ^\u001b[0m\n\u001b[0;31mSyntaxError\u001b[0m\u001b[0;31m:\u001b[0m incomplete input\n"
     ]
    }
   ],
   "source": [
    "def longestCommonPrefix(strs:list[str])->str:\n",
    "    "
   ]
  },
  {
   "cell_type": "markdown",
   "metadata": {},
   "source": [
    "### Solution: Brute Force\n",
    "\n",
    "Time Complexity: O(n^2)"
   ]
  },
  {
   "cell_type": "code",
   "execution_count": 61,
   "metadata": {},
   "outputs": [
    {
     "name": "stdout",
     "output_type": "stream",
     "text": [
      "None\n",
      "aa\n",
      "fl\n",
      "None\n",
      "a\n"
     ]
    }
   ],
   "source": [
    "def longestCommonPrefix(strs: list[str]) -> str:\n",
    "    left,right = 0,1    \n",
    "    prev_common_prefix = \"\"\n",
    "    if len(strs)  <= 1:\n",
    "        return strs[0]\n",
    "    \n",
    "    while right < len(strs):\n",
    "        common_prefix_between_left_and_right = \"\"\n",
    "        str_idx = 0\n",
    "        while str_idx < len(strs[left]) and str_idx < len(strs[right]):\n",
    "\n",
    "            try:\n",
    "                if prev_common_prefix and strs[left][str_idx] == strs[right][str_idx] == prev_common_prefix[str_idx]:\n",
    "                        common_prefix_between_left_and_right += strs[left][str_idx]\n",
    "                elif strs[left][str_idx] == strs[right][str_idx]:\n",
    "                        common_prefix_between_left_and_right += strs[left][str_idx]\n",
    "                else:\n",
    "                    break\n",
    "                str_idx +=1\n",
    "            except IndexError:\n",
    "                break\n",
    "    \n",
    "\n",
    "        if common_prefix_between_left_and_right:\n",
    "            left +=1\n",
    "            right +=1\n",
    "            prev_common_prefix = common_prefix_between_left_and_right\n",
    "        else:\n",
    "            return \"\"\n",
    "    return prev_common_prefix\n",
    "\n",
    "print(longestCommonPrefix([\"reflower\",\"flow\",\"flight\"]))\n",
    "print(longestCommonPrefix([\"aaa\",\"aa\",\"aaa\"]))\n",
    "print(longestCommonPrefix([\"flower\",\"flow\",\"flight\"]))\n",
    "print(longestCommonPrefix([\"dog\",\"racecar\",\"car\"]))\n",
    "print(longestCommonPrefix([\"acc\",\"aaa\",\"aaba\"]))"
   ]
  },
  {
   "cell_type": "code",
   "execution_count": null,
   "metadata": {},
   "outputs": [],
   "source": []
  }
 ],
 "metadata": {
  "kernelspec": {
   "display_name": "Python 3",
   "language": "python",
   "name": "python3"
  },
  "language_info": {
   "codemirror_mode": {
    "name": "ipython",
    "version": 3
   },
   "file_extension": ".py",
   "mimetype": "text/x-python",
   "name": "python",
   "nbconvert_exporter": "python",
   "pygments_lexer": "ipython3",
   "version": "3.12.3"
  }
 },
 "nbformat": 4,
 "nbformat_minor": 2
}
