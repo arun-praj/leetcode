{
 "cells": [
  {
   "cell_type": "markdown",
   "metadata": {},
   "source": [
    "# 208. Implement Trie (Prefix Tree)\n",
    "A trie (pronounced as \"try\") or prefix tree is a tree data structure used to efficiently store and retrieve keys in a dataset of strings. There are various applications of this data structure, such as autocomplete and spellchecker.\n",
    "\n",
    "Implement the Trie class:\n",
    "\n",
    "Trie() Initializes the trie object.\n",
    "void insert(String word) Inserts the string word into the trie.\n",
    "boolean search(String word) Returns true if the string word is in the trie (i.e., was inserted before), and false otherwise.\n",
    "boolean startsWith(String prefix) Returns true if there is a previously inserted string word that has the prefix prefix, and false otherwise.\n",
    " \n",
    "\n",
    "Example 1:\n",
    "```\n",
    "Input\n",
    "[\"Trie\", \"insert\", \"search\", \"search\", \"startsWith\", \"insert\", \"search\"]\n",
    "[[], [\"apple\"], [\"apple\"], [\"app\"], [\"app\"], [\"app\"], [\"app\"]]\n",
    "Output\n",
    "[null, null, true, false, true, null, true]\n",
    "\n",
    "Explanation\n",
    "Trie trie = new Trie();\n",
    "trie.insert(\"apple\");\n",
    "trie.search(\"apple\");   // return True\n",
    "trie.search(\"app\");     // return False\n",
    "trie.startsWith(\"app\"); // return True\n",
    "trie.insert(\"app\");\n",
    "trie.search(\"app\");     // return True\n",
    "```\n",
    "\n",
    "Constraints:\n",
    "\n",
    "1 <= word.length, prefix.length <= 2000\n",
    "word and prefix consist only of lowercase English letters.\n",
    "At most 3 * 104 calls in total will be made to insert, search, and startsWith."
   ]
  },
  {
   "cell_type": "code",
   "execution_count": 16,
   "metadata": {},
   "outputs": [
    {
     "name": "stdout",
     "output_type": "stream",
     "text": [
      "False\n"
     ]
    }
   ],
   "source": [
    "class TreeNode:\n",
    "    def __init__(self, word:bool=False):\n",
    "        self.children = {}\n",
    "        self.word = word\n",
    "\n",
    "class Trie:\n",
    "\n",
    "    def __init__(self):\n",
    "        self.root = TreeNode()\n",
    "\n",
    "    def insert(self, word: str) -> None:\n",
    "        curr = self.root\n",
    "        for char in word:\n",
    "            if char not in curr.children:\n",
    "                curr.children[char] = TreeNode()\n",
    "            curr = curr.children[char]\n",
    "        curr.word = True\n",
    "\n",
    "    def search(self, word: str) -> bool:\n",
    "        curr = self.root\n",
    "        for char in word:\n",
    "            if char not in curr.children:\n",
    "                return False\n",
    "            curr = curr.children[char]\n",
    "        return curr.word\n",
    "\n",
    "    def startsWith(self, prefix: str) -> bool:\n",
    "        curr = self.root\n",
    "        for char in prefix:\n",
    "            if char not in curr.children:\n",
    "                return False\n",
    "            curr = curr.children[char]\n",
    "        return True     \n",
    "    \n",
    "# trie = Trie()\n",
    "# trie.insert('apple')\n",
    "# print(trie.search('apple'))\n",
    "# print(trie.search('app'))\n",
    "\n",
    "trie2 = Trie()\n",
    "print(trie2.startsWith(\"a\"))\n"
   ]
  }
 ],
 "metadata": {
  "kernelspec": {
   "display_name": "Python 3",
   "language": "python",
   "name": "python3"
  },
  "language_info": {
   "codemirror_mode": {
    "name": "ipython",
    "version": 3
   },
   "file_extension": ".py",
   "mimetype": "text/x-python",
   "name": "python",
   "nbconvert_exporter": "python",
   "pygments_lexer": "ipython3",
   "version": "3.12.3"
  }
 },
 "nbformat": 4,
 "nbformat_minor": 2
}
