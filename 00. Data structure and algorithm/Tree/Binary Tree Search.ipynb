{
 "cells": [
  {
   "cell_type": "markdown",
   "metadata": {},
   "source": [
    "# Binary Search Tree\n",
    "\n",
    "\n",
    "### Constraints\n",
    "1. Tree must be in sorted order.\n",
    "2. Right child must be greater than parent and vice versa\n",
    "3. We can assume that BST is balanced.\n",
    "4. There must not be circular linked list.\n",
    "\n",
    "\n",
    "## Searching in BST\n",
    "#### Time Complexity\n",
    "Balanced BST = O(log n)\n",
    "\n",
    "Imbalanced BST = O(n)\n",
    "\n"
   ]
  },
  {
   "cell_type": "code",
   "execution_count": 8,
   "metadata": {},
   "outputs": [],
   "source": [
    "# Binary Tree Node\n",
    "class Node:\n",
    "    def __init__(self,value,left=None,right=None):\n",
    "        self.value = value\n",
    "        self.left = left\n",
    "        self.right = right\n",
    "\n",
    "\n",
    "rootNode = Node(2)\n",
    "rootNode.right = Node(5)\n",
    "rootNode.left = Node(1)\n",
    "\n",
    "rootNode.right.right = Node(6)\n",
    "rootNode.right.left = Node(4)\n",
    "rootNode.left.left = Node(0)\n",
    "\n",
    "\n",
    "rootNode.right.right.right = Node(7)"
   ]
  },
  {
   "cell_type": "code",
   "execution_count": 11,
   "metadata": {},
   "outputs": [
    {
     "name": "stdout",
     "output_type": "stream",
     "text": [
      "True\n",
      "True\n",
      "True\n",
      "True\n",
      "False\n"
     ]
    }
   ],
   "source": [
    "def binary_search(root,target):\n",
    "\n",
    "    if root is None:\n",
    "        return False\n",
    "\n",
    "    \n",
    "    if target > root.value:\n",
    "        return binary_search(root.right,target)\n",
    "    elif target < root.value:\n",
    "        return binary_search(root.left,target)\n",
    "    else:\n",
    "        return True\n",
    "    \n",
    "\n",
    "print(binary_search(rootNode,7))\n",
    "print(binary_search(rootNode,1))\n",
    "print(binary_search(rootNode,5))\n",
    "print(binary_search(rootNode,0))\n",
    "print(binary_search(rootNode,8))"
   ]
  },
  {
   "cell_type": "markdown",
   "metadata": {},
   "source": [
    "## Inserting and removing Element From BST\n",
    "\n",
    "The main difference between searching in sorted list vs Binary Tree is that, the time complexity of inserting/deleting and element at arbitary position from BST is always O(log n) however the time complexity of inserting at arbitary position is O(n)\n",
    "\n"
   ]
  }
 ],
 "metadata": {
  "kernelspec": {
   "display_name": "Python 3",
   "language": "python",
   "name": "python3"
  },
  "language_info": {
   "codemirror_mode": {
    "name": "ipython",
    "version": 3
   },
   "file_extension": ".py",
   "mimetype": "text/x-python",
   "name": "python",
   "nbconvert_exporter": "python",
   "pygments_lexer": "ipython3",
   "version": "3.12.3"
  }
 },
 "nbformat": 4,
 "nbformat_minor": 2
}
