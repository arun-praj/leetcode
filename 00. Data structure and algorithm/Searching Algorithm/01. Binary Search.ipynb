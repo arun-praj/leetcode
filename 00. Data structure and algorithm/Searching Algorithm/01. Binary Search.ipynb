{
 "cells": [
  {
   "cell_type": "markdown",
   "metadata": {},
   "source": [
    "# Binary Search\n",
    "\n",
    "### Constraints\n",
    "1. Must be sorted\n",
    "\n",
    "### Time Complexity\n",
    "O(log n)\n"
   ]
  },
  {
   "cell_type": "code",
   "execution_count": 33,
   "metadata": {},
   "outputs": [
    {
     "name": "stdout",
     "output_type": "stream",
     "text": [
      "6\n",
      "6\n",
      "-1\n"
     ]
    }
   ],
   "source": [
    "def binary_search(lst: list,target:int)->int:\n",
    "    left,right = 0,len(lst)-1\n",
    "    while left <= right:\n",
    "\n",
    "        mid = (left+right)//2\n",
    "\n",
    "        if target > lst[mid]:\n",
    "            left = mid+1\n",
    "\n",
    "        elif target < lst[mid]:\n",
    "            right = mid-1\n",
    "        else:\n",
    "            return mid \n",
    "\n",
    "    return -1      \n",
    "\n",
    "print(binary_search([1,4,7,12,43,65,100],100))\n",
    "print(binary_search([1,4,7,12,43,65,100,122],100))\n",
    "print(binary_search([-1,0,3,5,9,12],2))\n"
   ]
  }
 ],
 "metadata": {
  "kernelspec": {
   "display_name": "Python 3",
   "language": "python",
   "name": "python3"
  },
  "language_info": {
   "codemirror_mode": {
    "name": "ipython",
    "version": 3
   },
   "file_extension": ".py",
   "mimetype": "text/x-python",
   "name": "python",
   "nbconvert_exporter": "python",
   "pygments_lexer": "ipython3",
   "version": "3.12.3"
  }
 },
 "nbformat": 4,
 "nbformat_minor": 2
}
