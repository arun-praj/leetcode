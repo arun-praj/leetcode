{
 "cells": [
  {
   "cell_type": "markdown",
   "metadata": {},
   "source": [
    "## Intuition:\n",
    "The given problem is to detect if there is a cycle in the given linked list. To do so, we use the Floyd's Cycle detection algorithm, which is also known as the \"Tortoise and Hare\" algorithm.\n",
    "\n",
    "## Approach:\n",
    "We use two pointers, rabbit and tortoise, which start from the head of the linked list. The rabbit moves twice as fast as the tortoise, i.e., it moves two nodes at a time while the tortoise moves one node at a time.\n",
    "\n",
    "If there is no cycle in the linked list, the rabbit will reach the end of the list, i.e., it will become NULL, and we can return false. However, if there is a cycle, the rabbit will eventually catch up with the tortoise, and both pointers will point to the same node. We return true in this case.\n",
    "\n",
    "## Algorithm Steps:\n",
    "1. Initialize two pointers, rabbit and tortoise, to the head of the linked list.\n",
    "2. While the rabbit pointer is not NULL and its next pointer is not NULL, repeat steps 3-4.\n",
    "4. Move the rabbit pointer two nodes ahead.\n",
    "4. Move the tortoise pointer one node ahead.If the rabbit and tortoise pointers point to the same node, return true.\n",
    "5. If the rabbit pointer becomes NULL, return false.\n",
    "\n",
    "\n",
    "## Complexity:\n",
    "Time complexity: O(n), where n is the number of nodes in the linked list. In the worst case scenario, we will need to traverse the entire list to determine if there is a cycle.\n",
    "Space complexity: O(1), as we are only using two pointers and not using any additional data structures.\n",
    "\n",
    "## Application\n",
    "1. [141] Linked List cycle detection\n",
    "2. Linked list center detection"
   ]
  }
 ],
 "metadata": {
  "language_info": {
   "name": "python"
  }
 },
 "nbformat": 4,
 "nbformat_minor": 2
}
